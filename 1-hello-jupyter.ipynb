{
 "cells": [
  {
   "cell_type": "markdown",
   "metadata": {},
   "source": [
    "# Hello Jupyter Notebook"
   ]
  },
  {
   "cell_type": "markdown",
   "metadata": {},
   "source": [
    "Jupyter notebooks is a great code editor for machine learning. Play around with the following cells to familiarize yourself with it."
   ]
  },
  {
   "cell_type": "code",
   "execution_count": null,
   "metadata": {
    "collapsed": true
   },
   "outputs": [],
   "source": []
  },
  {
   "cell_type": "code",
   "execution_count": null,
   "metadata": {
    "collapsed": true
   },
   "outputs": [],
   "source": []
  },
  {
   "cell_type": "code",
   "execution_count": null,
   "metadata": {
    "collapsed": true
   },
   "outputs": [],
   "source": []
  },
  {
   "cell_type": "code",
   "execution_count": null,
   "metadata": {
    "collapsed": true
   },
   "outputs": [],
   "source": []
  },
  {
   "cell_type": "code",
   "execution_count": null,
   "metadata": {
    "collapsed": true
   },
   "outputs": [],
   "source": []
  },
  {
   "cell_type": "code",
   "execution_count": null,
   "metadata": {
    "collapsed": true
   },
   "outputs": [],
   "source": []
  },
  {
   "cell_type": "code",
   "execution_count": null,
   "metadata": {
    "collapsed": true
   },
   "outputs": [],
   "source": []
  },
  {
   "cell_type": "markdown",
   "metadata": {},
   "source": [
    "### Cheat sheet\n",
    "\n",
    "1. Double-click me!\n",
    "2. Now you see me in edit mode (see the green box around me?) This means you can write stuff.\n",
    "3. Now, hit Escape on your keyboard (see the box turn blue?) This means you are in command mode and can do lots of cool stuff. Try any of the following:\n",
    "  - H (see **H**elp page)\n",
    "  - A (insert cell **A**bove)\n",
    "  - B (insert cell **B**elow)\n",
    "4. Now, click me again, and execute me by running **Shift + Enter**. This is how you execute code in Jupyter. Try executing the following cells\n",
    "  "
   ]
  },
  {
   "cell_type": "code",
   "execution_count": 1,
   "metadata": {},
   "outputs": [
    {
     "name": "stdout",
     "output_type": "stream",
     "text": [
      "Hello world!\n"
     ]
    }
   ],
   "source": [
    "print('Hello world!')"
   ]
  },
  {
   "cell_type": "code",
   "execution_count": 2,
   "metadata": {},
   "outputs": [
    {
     "data": {
      "text/plain": [
       "50"
      ]
     },
     "execution_count": 2,
     "metadata": {},
     "output_type": "execute_result"
    }
   ],
   "source": [
    "100/10*5"
   ]
  },
  {
   "cell_type": "markdown",
   "metadata": {},
   "source": [
    "# Hello Python"
   ]
  },
  {
   "cell_type": "markdown",
   "metadata": {},
   "source": [
    "Things to cover:\n",
    "\n",
    "- variables\n",
    "- boolean operators\n",
    "- functions - \n",
    "  - definition\n",
    "  - invocation - with a ()\n",
    "  - parameters/arguments\n",
    "  - how to read the docs with ?\n",
    "- print()\n",
    "- \\# This is a comment\n",
    "- array\n",
    "  - my_array[:]\n",
    "- objects (and methods) (how to instantiate them, and how to see them with autocomplete)\n",
    "- object methods (touch on classes)\n",
    "- how to read error messages\n",
    "\n",
    "- pandas\n",
    "  - how to load the library\n",
    "  - dataframes and methods\n",
    "     - read_csv()\n",
    "     - head()\n",
    "     - describe()\n",
    "     - iloc[:, :]\n",
    "  - series and methods\n",
    "     - value_counts()"
   ]
  },
  {
   "cell_type": "markdown",
   "metadata": {},
   "source": [
    "# Hello Shell"
   ]
  },
  {
   "cell_type": "markdown",
   "metadata": {},
   "source": [
    "To run shell commands in jupyter notebook, simply prefix the command with an exclamation mark (!)"
   ]
  },
  {
   "cell_type": "code",
   "execution_count": 3,
   "metadata": {},
   "outputs": [
    {
     "name": "stdout",
     "output_type": "stream",
     "text": [
      "1-hello-jupyter.ipynb\r\n",
      "2-classification-model-workshop-starter-code.ipynb\r\n",
      "3-classification-model-workshop-solutions.ipynb\r\n",
      "bin\r\n",
      "classification-model-workshop-solutions.ipynb\r\n",
      "comparing-models.ipynb\r\n",
      "data\r\n",
      "data-preprocessing.ipynb\r\n",
      "full-analysis.ipynb\r\n",
      "hello-jupyter.ipynb\r\n",
      "logistic-regression-formula-playground.ipynb\r\n",
      "README.md\r\n",
      "requirements.txt\r\n"
     ]
    }
   ],
   "source": [
    "# to list the contents of a directory\n",
    "!ls"
   ]
  },
  {
   "cell_type": "code",
   "execution_count": 4,
   "metadata": {},
   "outputs": [
    {
     "name": "stdout",
     "output_type": "stream",
     "text": [
      "/home/ubuntu/code/sim-workshop/workshop-repo-1\r\n"
     ]
    }
   ],
   "source": [
    "# to print working (i.e. current) directory\n",
    "!pwd"
   ]
  },
  {
   "cell_type": "code",
   "execution_count": 5,
   "metadata": {},
   "outputs": [
    {
     "name": "stdout",
     "output_type": "stream",
     "text": [
      "/home/ubuntu/code/sim-workshop\r\n"
     ]
    }
   ],
   "source": [
    "# to change directory\n",
    "# cd <name-of-directory>\n",
    "\n",
    "! cd .. && pwd"
   ]
  },
  {
   "cell_type": "code",
   "execution_count": 6,
   "metadata": {
    "scrolled": true
   },
   "outputs": [
    {
     "name": "stdout",
     "output_type": "stream",
     "text": [
      "/home/ubuntu/code\n",
      "total 13348\n",
      "-rw-rw-r-- 1 ubuntu ubuntu 1527290 Oct 11 05:34 bank-additional-balanced-dataset.csv\n",
      "-rwxrwxr-x 1 ubuntu ubuntu 5834924 Oct 11 05:34 bank-additional-full.csv\n",
      "-rw-rw-r-- 1 ubuntu ubuntu       0 Oct 11 05:34 bank-additional-names.txt\n",
      "-rw-rw-r-- 1 ubuntu ubuntu 6297140 Oct 11 05:34 bank-additional-one-hot-encoded.csv\n",
      "-rw-rw-r-- 1 ubuntu ubuntu    2706 Oct 11 05:34 bank-unseen-data.csv\n"
     ]
    }
   ],
   "source": [
    "# To join shell commands, use &&\n",
    "! cd ../.. && pwd\n",
    "! cd data/bank-marketing-data && ls -l # -l are options of the ls command"
   ]
  },
  {
   "cell_type": "code",
   "execution_count": 7,
   "metadata": {
    "collapsed": true
   },
   "outputs": [],
   "source": [
    "# Hello git"
   ]
  },
  {
   "cell_type": "code",
   "execution_count": 8,
   "metadata": {},
   "outputs": [
    {
     "name": "stdout",
     "output_type": "stream",
     "text": [
      "Reinitialized existing Git repository in /home/ubuntu/code/sim-workshop/workshop-repo-1/.git/\r\n"
     ]
    }
   ],
   "source": [
    "# 1. Create git repository in a folder\n",
    "!git init"
   ]
  },
  {
   "cell_type": "code",
   "execution_count": 9,
   "metadata": {},
   "outputs": [
    {
     "name": "stdout",
     "output_type": "stream",
     "text": [
      "fatal: remote origin already exists.\r\n"
     ]
    }
   ],
   "source": [
    "# 2. Connect your local repository (i.e. on your desktop) to the remote repository (e.g. on github.com)\n",
    "!git remote add origin YOUR_GITHUB_REPO_URL"
   ]
  },
  {
   "cell_type": "code",
   "execution_count": 10,
   "metadata": {},
   "outputs": [
    {
     "name": "stdout",
     "output_type": "stream",
     "text": [
      "On branch master\r\n",
      "Your branch is up-to-date with 'origin/master'.\r\n",
      "Changes not staged for commit:\r\n",
      "  (use \"git add <file>...\" to update what will be committed)\r\n",
      "  (use \"git checkout -- <file>...\" to discard changes in working directory)\r\n",
      "\r\n",
      "\t\u001b[31mmodified:   2-classification-model-workshop-starter-code.ipynb\u001b[m\r\n",
      "\t\u001b[31mmodified:   3-classification-model-workshop-solutions.ipynb\u001b[m\r\n",
      "\t\u001b[31mmodified:   README.md\u001b[m\r\n",
      "\r\n",
      "no changes added to commit (use \"git add\" and/or \"git commit -a\")\r\n"
     ]
    }
   ],
   "source": [
    "# 3. See the status of your git commits (this command can be run at anytime)\n",
    "!git status"
   ]
  },
  {
   "cell_type": "code",
   "execution_count": 11,
   "metadata": {
    "collapsed": true
   },
   "outputs": [],
   "source": [
    "# 3. Add your files to staging\n",
    "!git add . # . means everything in the current working directory\n",
    "# you can also add files or directories individually (e.g. git add my-file; git add my-directory/my-file; git add my-directory)"
   ]
  },
  {
   "cell_type": "code",
   "execution_count": 12,
   "metadata": {},
   "outputs": [
    {
     "name": "stdout",
     "output_type": "stream",
     "text": [
      "[master e86c69e] your awesome commit message\n",
      " Committer: David Tan <ubuntu@ip-10-0-0-10.us-west-2.compute.internal>\n",
      "Your name and email address were configured automatically based\n",
      "on your username and hostname. Please check that they are accurate.\n",
      "You can suppress this message by setting them explicitly:\n",
      "\n",
      "    git config --global user.name \"Your Name\"\n",
      "    git config --global user.email you@example.com\n",
      "\n",
      "After doing this, you may fix the identity used for this commit with:\n",
      "\n",
      "    git commit --amend --reset-author\n",
      "\n",
      " 3 files changed, 116 insertions(+), 44 deletions(-)\n"
     ]
    }
   ],
   "source": [
    "# 4. Commit your files to the local repo\n",
    "!git commit -m \"your awesome commit message\""
   ]
  },
  {
   "cell_type": "code",
   "execution_count": 13,
   "metadata": {},
   "outputs": [
    {
     "name": "stdout",
     "output_type": "stream",
     "text": [
      "/bin/sh: 1: cannot open your_username: No such file\r\n"
     ]
    }
   ],
   "source": [
    "# 5. Push your commits to the remote repo\n",
    "!git push https://<your_username>:<your_password>@github.com/<your_username>/<your_project_name> --all\n",
    "        \n",
    "# WARNING: DO NOT commit your password for the world to see!! Delete the line above before saving this repo"
   ]
  },
  {
   "cell_type": "code",
   "execution_count": null,
   "metadata": {
    "collapsed": true
   },
   "outputs": [],
   "source": []
  },
  {
   "cell_type": "code",
   "execution_count": null,
   "metadata": {
    "collapsed": true
   },
   "outputs": [],
   "source": []
  },
  {
   "cell_type": "code",
   "execution_count": null,
   "metadata": {
    "collapsed": true
   },
   "outputs": [],
   "source": []
  },
  {
   "cell_type": "code",
   "execution_count": null,
   "metadata": {
    "collapsed": true
   },
   "outputs": [],
   "source": []
  }
 ],
 "metadata": {
  "kernelspec": {
   "display_name": "Python [conda root]",
   "language": "python",
   "name": "conda-root-py"
  },
  "language_info": {
   "codemirror_mode": {
    "name": "ipython",
    "version": 2
   },
   "file_extension": ".py",
   "mimetype": "text/x-python",
   "name": "python",
   "nbconvert_exporter": "python",
   "pygments_lexer": "ipython2",
   "version": "2.7.13"
  }
 },
 "nbformat": 4,
 "nbformat_minor": 2
}
